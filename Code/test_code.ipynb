{
 "cells": [
  {
   "attachments": {},
   "cell_type": "markdown",
   "metadata": {},
   "source": [
    "# Code Test"
   ]
  },
  {
   "cell_type": "code",
   "execution_count": 1,
   "metadata": {},
   "outputs": [],
   "source": [
    "import numpy as np\n",
    "import scipy as sp\n",
    "import jax.numpy as jnp"
   ]
  },
  {
   "cell_type": "code",
   "execution_count": 6,
   "metadata": {},
   "outputs": [
    {
     "name": "stdout",
     "output_type": "stream",
     "text": [
      "[[[ 0.  1.]\n",
      "  [ 2.  3.]\n",
      "  [ 4.  5.]\n",
      "  [ 6.  7.]\n",
      "  [ 8.  9.]]\n",
      "\n",
      " [[10. 11.]\n",
      "  [12. 13.]\n",
      "  [14. 15.]\n",
      "  [16. 17.]\n",
      "  [18. 19.]]\n",
      "\n",
      " [[20. 21.]\n",
      "  [22. 23.]\n",
      "  [24. 25.]\n",
      "  [26. 27.]\n",
      "  [28. 29.]]]\n",
      "[[22. 23.]\n",
      " [24. 25.]\n",
      " [26. 27.]\n",
      " [28. 29.]\n",
      " [28. 29.]]\n"
     ]
    }
   ],
   "source": [
    "T = 3\n",
    "N = 5\n",
    "n = 6\n",
    "m = 2\n",
    "index = 0\n",
    "\n",
    "s_mpc = np.zeros((T, N + 1, n))\n",
    "u_mpc = np.zeros((T, N, m))\n",
    "\n",
    "for t in range(T):\n",
    "    for n in range(N):\n",
    "        for mi in range(m):\n",
    "            u_mpc[t, n, mi] = index\n",
    "            index += 1\n",
    "\n",
    "\n",
    "print(u_mpc)\n",
    "\n",
    "u_init = np.concatenate([u_mpc[2, 1:], u_mpc[2, -1:]])\n",
    "\n",
    "print(u_init)"
   ]
  },
  {
   "cell_type": "code",
   "execution_count": 24,
   "metadata": {},
   "outputs": [
    {
     "data": {
      "text/plain": [
       "1.0"
      ]
     },
     "execution_count": 24,
     "metadata": {},
     "output_type": "execute_result"
    }
   ],
   "source": [
    "np.random.normal(1, 0)"
   ]
  }
 ],
 "metadata": {
  "kernelspec": {
   "display_name": "Python 3",
   "language": "python",
   "name": "python3"
  },
  "language_info": {
   "codemirror_mode": {
    "name": "ipython",
    "version": 3
   },
   "file_extension": ".py",
   "mimetype": "text/x-python",
   "name": "python",
   "nbconvert_exporter": "python",
   "pygments_lexer": "ipython3",
   "version": "3.8.10"
  },
  "orig_nbformat": 4
 },
 "nbformat": 4,
 "nbformat_minor": 2
}
